{
 "cells": [
  {
   "cell_type": "code",
   "execution_count": null,
   "id": "c522de07",
   "metadata": {},
   "outputs": [],
   "source": [
    "import tokenize as tk\n",
    "import pandas as pd\n",
    "import numpy as np\n",
    "import pandas as pd"
   ]
  },
  {
   "cell_type": "code",
   "execution_count": 76,
   "id": "72e50536",
   "metadata": {},
   "outputs": [],
   "source": [
    "def tokenize_file(file):\n",
    "    with open(file, 'rb') as f:\n",
    "        tokens = tk.tokenize(f.readline)\n",
    "        t_type = t_name = t_start = t_stop = t_str = [] \n",
    "        for token in tokens:\n",
    "            print(f\"{token.type} ({tk.tok_name[token.type]}): {token.string}\")\n",
    "            t_type += [token.type]\n",
    "            t_name += [tk.tok_name[token.type]]\n",
    "            t_start += [token.start]\n",
    "            t_stop += [token.end]\n",
    "            t_str += [token.string]\n",
    "            \n",
    "        df = pd.DataFrame({\n",
    "                'Token Type' : t_type,\n",
    "                'Token Name' : t_name,\n",
    "                'Start' : t_start,\n",
    "                'Stop' : t_stop,\n",
    "                'String' : t_str\n",
    "            })\n",
    "        return df"
   ]
  },
  {
   "cell_type": "code",
   "execution_count": null,
   "id": "80d56d2b",
   "metadata": {},
   "outputs": [
    {
     "data": {
      "text/plain": [
       "TokenInfo(type=65 (ENCODING), string='utf-8', start=(0, 0), end=(0, 0), line='')"
      ]
     },
     "execution_count": 70,
     "metadata": {},
     "output_type": "execute_result"
    }
   ],
   "source": [
    "def tfile():\n",
    "    with open('test.py', 'rb') as f:\n",
    "        tokens = tk.tokenize(f.readline)\n",
    "        tlst = []\n",
    "        for token in tokens:\n",
    "            tlst += [token]\n",
    "        return tlst\n",
    "\n",
    "tfile()[0].\n",
    "    "
   ]
  },
  {
   "cell_type": "code",
   "execution_count": 73,
   "id": "5b210c0a",
   "metadata": {},
   "outputs": [
    {
     "name": "stdout",
     "output_type": "stream",
     "text": [
      "65 (ENCODING): utf-8\n",
      "1 (NAME): def\n",
      "1 (NAME): say_hello\n",
      "55 (OP): (\n",
      "55 (OP): )\n",
      "55 (OP): :\n",
      "4 (NEWLINE): \n",
      "\n",
      "5 (INDENT):     \n",
      "1 (NAME): print\n",
      "55 (OP): (\n",
      "3 (STRING): \"Hello, World!\"\n",
      "55 (OP): )\n",
      "4 (NEWLINE): \n",
      "\n",
      "63 (NL): \n",
      "\n",
      "6 (DEDENT): \n",
      "1 (NAME): say_hello\n",
      "55 (OP): (\n",
      "55 (OP): )\n",
      "4 (NEWLINE): \n",
      "0 (ENDMARKER): \n"
     ]
    },
    {
     "data": {
      "text/html": [
       "<div>\n",
       "<style scoped>\n",
       "    .dataframe tbody tr th:only-of-type {\n",
       "        vertical-align: middle;\n",
       "    }\n",
       "\n",
       "    .dataframe tbody tr th {\n",
       "        vertical-align: top;\n",
       "    }\n",
       "\n",
       "    .dataframe thead th {\n",
       "        text-align: right;\n",
       "    }\n",
       "</style>\n",
       "<table border=\"1\" class=\"dataframe\">\n",
       "  <thead>\n",
       "    <tr style=\"text-align: right;\">\n",
       "      <th></th>\n",
       "      <th>Token Type</th>\n",
       "      <th>Token Name</th>\n",
       "      <th>Start</th>\n",
       "      <th>Stop</th>\n",
       "      <th>String</th>\n",
       "    </tr>\n",
       "  </thead>\n",
       "  <tbody>\n",
       "    <tr>\n",
       "      <th>0</th>\n",
       "      <td>65</td>\n",
       "      <td>65</td>\n",
       "      <td>65</td>\n",
       "      <td>65</td>\n",
       "      <td>65</td>\n",
       "    </tr>\n",
       "    <tr>\n",
       "      <th>1</th>\n",
       "      <td>ENCODING</td>\n",
       "      <td>ENCODING</td>\n",
       "      <td>ENCODING</td>\n",
       "      <td>ENCODING</td>\n",
       "      <td>ENCODING</td>\n",
       "    </tr>\n",
       "    <tr>\n",
       "      <th>2</th>\n",
       "      <td>(0, 0)</td>\n",
       "      <td>(0, 0)</td>\n",
       "      <td>(0, 0)</td>\n",
       "      <td>(0, 0)</td>\n",
       "      <td>(0, 0)</td>\n",
       "    </tr>\n",
       "    <tr>\n",
       "      <th>3</th>\n",
       "      <td>(0, 0)</td>\n",
       "      <td>(0, 0)</td>\n",
       "      <td>(0, 0)</td>\n",
       "      <td>(0, 0)</td>\n",
       "      <td>(0, 0)</td>\n",
       "    </tr>\n",
       "    <tr>\n",
       "      <th>4</th>\n",
       "      <td>utf-8</td>\n",
       "      <td>utf-8</td>\n",
       "      <td>utf-8</td>\n",
       "      <td>utf-8</td>\n",
       "      <td>utf-8</td>\n",
       "    </tr>\n",
       "    <tr>\n",
       "      <th>...</th>\n",
       "      <td>...</td>\n",
       "      <td>...</td>\n",
       "      <td>...</td>\n",
       "      <td>...</td>\n",
       "      <td>...</td>\n",
       "    </tr>\n",
       "    <tr>\n",
       "      <th>95</th>\n",
       "      <td>0</td>\n",
       "      <td>0</td>\n",
       "      <td>0</td>\n",
       "      <td>0</td>\n",
       "      <td>0</td>\n",
       "    </tr>\n",
       "    <tr>\n",
       "      <th>96</th>\n",
       "      <td>ENDMARKER</td>\n",
       "      <td>ENDMARKER</td>\n",
       "      <td>ENDMARKER</td>\n",
       "      <td>ENDMARKER</td>\n",
       "      <td>ENDMARKER</td>\n",
       "    </tr>\n",
       "    <tr>\n",
       "      <th>97</th>\n",
       "      <td>(5, 0)</td>\n",
       "      <td>(5, 0)</td>\n",
       "      <td>(5, 0)</td>\n",
       "      <td>(5, 0)</td>\n",
       "      <td>(5, 0)</td>\n",
       "    </tr>\n",
       "    <tr>\n",
       "      <th>98</th>\n",
       "      <td>(5, 0)</td>\n",
       "      <td>(5, 0)</td>\n",
       "      <td>(5, 0)</td>\n",
       "      <td>(5, 0)</td>\n",
       "      <td>(5, 0)</td>\n",
       "    </tr>\n",
       "    <tr>\n",
       "      <th>99</th>\n",
       "      <td></td>\n",
       "      <td></td>\n",
       "      <td></td>\n",
       "      <td></td>\n",
       "      <td></td>\n",
       "    </tr>\n",
       "  </tbody>\n",
       "</table>\n",
       "<p>100 rows × 5 columns</p>\n",
       "</div>"
      ],
      "text/plain": [
       "   Token Type Token Name      Start       Stop     String\n",
       "0          65         65         65         65         65\n",
       "1    ENCODING   ENCODING   ENCODING   ENCODING   ENCODING\n",
       "2      (0, 0)     (0, 0)     (0, 0)     (0, 0)     (0, 0)\n",
       "3      (0, 0)     (0, 0)     (0, 0)     (0, 0)     (0, 0)\n",
       "4       utf-8      utf-8      utf-8      utf-8      utf-8\n",
       "..        ...        ...        ...        ...        ...\n",
       "95          0          0          0          0          0\n",
       "96  ENDMARKER  ENDMARKER  ENDMARKER  ENDMARKER  ENDMARKER\n",
       "97     (5, 0)     (5, 0)     (5, 0)     (5, 0)     (5, 0)\n",
       "98     (5, 0)     (5, 0)     (5, 0)     (5, 0)     (5, 0)\n",
       "99                                                       \n",
       "\n",
       "[100 rows x 5 columns]"
      ]
     },
     "execution_count": 73,
     "metadata": {},
     "output_type": "execute_result"
    }
   ],
   "source": [
    "tokenize_file('test.py')"
   ]
  },
  {
   "cell_type": "code",
   "execution_count": null,
   "id": "2ea86516",
   "metadata": {},
   "outputs": [
    {
     "ename": "AttributeError",
     "evalue": "'TokenInfo' object has no attribute 'exact_token_types'",
     "output_type": "error",
     "traceback": [
      "\u001b[31m---------------------------------------------------------------------------\u001b[39m",
      "\u001b[31mAttributeError\u001b[39m                            Traceback (most recent call last)",
      "\u001b[36mCell\u001b[39m\u001b[36m \u001b[39m\u001b[32mIn[54]\u001b[39m\u001b[32m, line 1\u001b[39m\n\u001b[32m----> \u001b[39m\u001b[32m1\u001b[39m \u001b[43mtoken\u001b[49m\u001b[43m.\u001b[49m\u001b[43mexact_token_types\u001b[49m\n",
      "\u001b[31mAttributeError\u001b[39m: 'TokenInfo' object has no attribute 'exact_token_types'"
     ]
    }
   ],
   "source": []
  },
  {
   "cell_type": "code",
   "execution_count": null,
   "id": "8060eed9",
   "metadata": {},
   "outputs": [],
   "source": []
  }
 ],
 "metadata": {
  "kernelspec": {
   "display_name": ".venv",
   "language": "python",
   "name": "python3"
  },
  "language_info": {
   "codemirror_mode": {
    "name": "ipython",
    "version": 3
   },
   "file_extension": ".py",
   "mimetype": "text/x-python",
   "name": "python",
   "nbconvert_exporter": "python",
   "pygments_lexer": "ipython3",
   "version": "3.13.5"
  }
 },
 "nbformat": 4,
 "nbformat_minor": 5
}
